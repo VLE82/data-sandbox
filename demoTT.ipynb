{
 "cells": [
  {
   "cell_type": "code",
   "execution_count": 1,
   "id": "5fc22285",
   "metadata": {},
   "outputs": [
    {
     "data": {
      "text/plain": [
       "2"
      ]
     },
     "execution_count": 1,
     "metadata": {},
     "output_type": "execute_result"
    }
   ],
   "source": [
    "1+1"
   ]
  },
  {
   "cell_type": "code",
   "execution_count": 11,
   "id": "3a6973b6",
   "metadata": {},
   "outputs": [
    {
     "name": "stdout",
     "output_type": "stream",
     "text": [
      "Hello Word\n"
     ]
    },
    {
     "data": {
      "text/plain": [
       "'test'"
      ]
     },
     "execution_count": 11,
     "metadata": {},
     "output_type": "execute_result"
    }
   ],
   "source": [
    "print('Hello Word')\n",
    "\"test\""
   ]
  },
  {
   "cell_type": "code",
   "execution_count": 10,
   "id": "c096a6eb",
   "metadata": {},
   "outputs": [
    {
     "data": {
      "text/plain": [
       "1.4142135623730951"
      ]
     },
     "execution_count": 10,
     "metadata": {},
     "output_type": "execute_result"
    }
   ],
   "source": [
    "2**0.5"
   ]
  },
  {
   "cell_type": "markdown",
   "id": "a8d4b8da",
   "metadata": {},
   "source": [
    "Ceci est un titre de test\n",
    "=\n",
    "Mon sous-titre\n",
    "--\n",
    "\n",
    "# Titre de niveau 1\n",
    "## Titre de niveau 2\n",
    "### Titre de niveau 3\n",
    "#### Titre de niveau 4\n",
    "##### Titre de niveau 5"
   ]
  },
  {
   "cell_type": "code",
   "execution_count": 12,
   "id": "339aa260",
   "metadata": {},
   "outputs": [
    {
     "data": {
      "text/plain": [
       "4"
      ]
     },
     "execution_count": 12,
     "metadata": {},
     "output_type": "execute_result"
    }
   ],
   "source": [
    "2**2"
   ]
  },
  {
   "cell_type": "markdown",
   "id": "50f8820d",
   "metadata": {},
   "source": [
    "**gras**\n",
    "*italique*\n",
    "\n",
    "- puce 1\n",
    "- puce 2\n",
    "  \n",
    "1. numéro 1\n",
    "2. numéro 2\n",
    "\n",
    "Allez voir [la une de \"Le monde\"](https://www.lemonde.fr)\n",
    "\n",
    "lien \"brut\" <https://www.lemonde.fr>\n",
    "\n",
    "[Lien interne](#test)"
   ]
  },
  {
   "cell_type": "code",
   "execution_count": null,
   "id": "c754efc5",
   "metadata": {},
   "outputs": [],
   "source": []
  },
  {
   "cell_type": "code",
   "execution_count": null,
   "id": "6a7ebcd6",
   "metadata": {},
   "outputs": [],
   "source": []
  },
  {
   "cell_type": "markdown",
   "id": "9781e71d",
   "metadata": {},
   "source": [
    "<div id=\"test\">\n",
    "    Ceci est un lien interne\n",
    "</div>"
   ]
  },
  {
   "cell_type": "markdown",
   "id": "bad7f341",
   "metadata": {},
   "source": [
    "Il est possible de faire des maths: $a=1$ dans le texte (inline)\n",
    "\n",
    "$$\n",
    "I = \\int_0^1 f(x) \\, dx\n",
    "$$"
   ]
  },
  {
   "cell_type": "code",
   "execution_count": null,
   "id": "eaa61d13",
   "metadata": {},
   "outputs": [],
   "source": []
  },
  {
   "cell_type": "markdown",
   "id": "8f585c5c",
   "metadata": {},
   "source": [
    "Ceci est un test de code:\n",
    "\n",
    "    print(\"Hello\")\n",
    "    if True:\n",
    "        doit\n",
    "    \n",
    "Fin du code"
   ]
  },
  {
   "cell_type": "markdown",
   "id": "6c7eb95e",
   "metadata": {},
   "source": [
    "\n",
    "$$\n",
    "\\begin{split}\n",
    "    f(x) = x^5 + 2x^4 + 3x^3\\\\\n",
    "               + 4x^2 + 5x + 6 \n",
    "\\end{split}\n",
    "$$"
   ]
  },
  {
   "cell_type": "code",
   "execution_count": null,
   "id": "ed6b97d4",
   "metadata": {},
   "outputs": [],
   "source": []
  }
 ],
 "metadata": {
  "kernelspec": {
   "display_name": "Python 3 (ipykernel)",
   "language": "python",
   "name": "python3"
  },
  "language_info": {
   "codemirror_mode": {
    "name": "ipython",
    "version": 3
   },
   "file_extension": ".py",
   "mimetype": "text/x-python",
   "name": "python",
   "nbconvert_exporter": "python",
   "pygments_lexer": "ipython3",
   "version": "3.10.2"
  }
 },
 "nbformat": 4,
 "nbformat_minor": 5
}
